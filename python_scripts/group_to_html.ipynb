{
 "cells": [
  {
   "cell_type": "code",
   "execution_count": 13,
   "metadata": {},
   "outputs": [],
   "source": [
    "# Take in a flickr group id and spit out html code for 30 most recent images to be on website"
   ]
  },
  {
   "cell_type": "code",
   "execution_count": 14,
   "metadata": {},
   "outputs": [],
   "source": [
    "# This product uses the Flickr API but is not endorsed or certified by SmugMug, Inc."
   ]
  },
  {
   "cell_type": "code",
   "execution_count": 15,
   "metadata": {},
   "outputs": [],
   "source": [
    "# EP-LUG URL: https://www.flickr.com/groups/14665180@N23/\n",
    "# GROUP_ID = '14665180@N23'\n",
    "GROUP_URL = 'https://www.flickr.com/groups/14665180@N23/'"
   ]
  },
  {
   "cell_type": "code",
   "execution_count": 16,
   "metadata": {},
   "outputs": [],
   "source": [
    "import json\n",
    "import xml.etree.ElementTree as ET\n",
    "import flickrapi\n",
    "\n",
    "with open('/Users/mitch/Documents/secrets/flickr/credentials.json') as f:\n",
    "  secrets = json.load(f)"
   ]
  },
  {
   "cell_type": "code",
   "execution_count": 19,
   "metadata": {},
   "outputs": [
    {
     "ename": "FlickrError",
     "evalue": "Error: 1: Group not found",
     "output_type": "error",
     "traceback": [
      "\u001b[0;31m---------------------------------------------------------------------------\u001b[0m",
      "\u001b[0;31mFlickrError\u001b[0m                               Traceback (most recent call last)",
      "\u001b[0;32m<ipython-input-19-b62bd1a1bbb3>\u001b[0m in \u001b[0;36m<module>\u001b[0;34m\u001b[0m\n\u001b[1;32m      3\u001b[0m \u001b[0mflickr\u001b[0m \u001b[0;34m=\u001b[0m \u001b[0mflickrapi\u001b[0m\u001b[0;34m.\u001b[0m\u001b[0mFlickrAPI\u001b[0m\u001b[0;34m(\u001b[0m\u001b[0mapi_key\u001b[0m\u001b[0;34m,\u001b[0m \u001b[0mapi_password\u001b[0m\u001b[0;34m,\u001b[0m \u001b[0mformat\u001b[0m\u001b[0;34m=\u001b[0m\u001b[0;34m'parsed-json'\u001b[0m\u001b[0;34m)\u001b[0m\u001b[0;34m\u001b[0m\u001b[0;34m\u001b[0m\u001b[0m\n\u001b[1;32m      4\u001b[0m \u001b[0;34m\u001b[0m\u001b[0m\n\u001b[0;32m----> 5\u001b[0;31m \u001b[0mGROUP_ID\u001b[0m \u001b[0;34m=\u001b[0m \u001b[0mflickr\u001b[0m\u001b[0;34m.\u001b[0m\u001b[0murls\u001b[0m\u001b[0;34m.\u001b[0m\u001b[0mgetGroup\u001b[0m\u001b[0;34m(\u001b[0m\u001b[0murl\u001b[0m\u001b[0;34m=\u001b[0m\u001b[0mGROUP_URL\u001b[0m\u001b[0;34m)\u001b[0m\u001b[0;34m\u001b[0m\u001b[0;34m\u001b[0m\u001b[0m\n\u001b[0m\u001b[1;32m      6\u001b[0m \u001b[0;34m\u001b[0m\u001b[0m\n\u001b[1;32m      7\u001b[0m \u001b[0mr\u001b[0m \u001b[0;34m=\u001b[0m \u001b[0mflickr\u001b[0m\u001b[0;34m.\u001b[0m\u001b[0mgroups\u001b[0m\u001b[0;34m.\u001b[0m\u001b[0mpools\u001b[0m\u001b[0;34m.\u001b[0m\u001b[0mgetPhotos\u001b[0m\u001b[0;34m(\u001b[0m\u001b[0mgroup_id\u001b[0m\u001b[0;34m=\u001b[0m\u001b[0mGROUP_ID\u001b[0m\u001b[0;34m)\u001b[0m\u001b[0;34m\u001b[0m\u001b[0;34m\u001b[0m\u001b[0m\n",
      "\u001b[0;32m~/opt/anaconda3/lib/python3.7/site-packages/flickrapi/call_builder.py\u001b[0m in \u001b[0;36m__call__\u001b[0;34m(self, **kwargs)\u001b[0m\n\u001b[1;32m     36\u001b[0m \u001b[0;34m\u001b[0m\u001b[0m\n\u001b[1;32m     37\u001b[0m     \u001b[0;32mdef\u001b[0m \u001b[0m__call__\u001b[0m\u001b[0;34m(\u001b[0m\u001b[0mself\u001b[0m\u001b[0;34m,\u001b[0m \u001b[0;34m**\u001b[0m\u001b[0mkwargs\u001b[0m\u001b[0;34m)\u001b[0m\u001b[0;34m:\u001b[0m\u001b[0;34m\u001b[0m\u001b[0;34m\u001b[0m\u001b[0m\n\u001b[0;32m---> 38\u001b[0;31m         \u001b[0;32mreturn\u001b[0m \u001b[0mself\u001b[0m\u001b[0;34m.\u001b[0m\u001b[0mflickrapi_object\u001b[0m\u001b[0;34m.\u001b[0m\u001b[0mdo_flickr_call\u001b[0m\u001b[0;34m(\u001b[0m\u001b[0mself\u001b[0m\u001b[0;34m.\u001b[0m\u001b[0mmethod_name\u001b[0m\u001b[0;34m,\u001b[0m \u001b[0;34m**\u001b[0m\u001b[0mkwargs\u001b[0m\u001b[0;34m)\u001b[0m\u001b[0;34m\u001b[0m\u001b[0;34m\u001b[0m\u001b[0m\n\u001b[0m\u001b[1;32m     39\u001b[0m \u001b[0;34m\u001b[0m\u001b[0m\n\u001b[1;32m     40\u001b[0m \u001b[0;32mif\u001b[0m \u001b[0m__name__\u001b[0m \u001b[0;34m==\u001b[0m \u001b[0;34m'__main__'\u001b[0m\u001b[0;34m:\u001b[0m\u001b[0;34m\u001b[0m\u001b[0;34m\u001b[0m\u001b[0m\n",
      "\u001b[0;32m~/opt/anaconda3/lib/python3.7/site-packages/flickrapi/core.py\u001b[0m in \u001b[0;36mdo_flickr_call\u001b[0;34m(self, _method_name, timeout, **kwargs)\u001b[0m\n\u001b[1;32m    335\u001b[0m                                     \u001b[0mparse_format\u001b[0m\u001b[0;34m=\u001b[0m\u001b[0mparams\u001b[0m\u001b[0;34m[\u001b[0m\u001b[0;34m'format'\u001b[0m\u001b[0;34m]\u001b[0m\u001b[0;34m,\u001b[0m\u001b[0;34m\u001b[0m\u001b[0;34m\u001b[0m\u001b[0m\n\u001b[1;32m    336\u001b[0m                                     \u001b[0mtimeout\u001b[0m\u001b[0;34m=\u001b[0m\u001b[0mtimeout\u001b[0m\u001b[0;34m,\u001b[0m\u001b[0;34m\u001b[0m\u001b[0;34m\u001b[0m\u001b[0m\n\u001b[0;32m--> 337\u001b[0;31m                                     **params)\n\u001b[0m\u001b[1;32m    338\u001b[0m \u001b[0;34m\u001b[0m\u001b[0m\n\u001b[1;32m    339\u001b[0m     \u001b[0;32mdef\u001b[0m \u001b[0m_supply_defaults\u001b[0m\u001b[0;34m(\u001b[0m\u001b[0mself\u001b[0m\u001b[0;34m,\u001b[0m \u001b[0margs\u001b[0m\u001b[0;34m,\u001b[0m \u001b[0mdefaults\u001b[0m\u001b[0;34m)\u001b[0m\u001b[0;34m:\u001b[0m\u001b[0;34m\u001b[0m\u001b[0;34m\u001b[0m\u001b[0m\n",
      "\u001b[0;32m~/opt/anaconda3/lib/python3.7/site-packages/flickrapi/core.py\u001b[0m in \u001b[0;36m_wrap_in_parser\u001b[0;34m(self, wrapped_method, parse_format, *args, **kwargs)\u001b[0m\n\u001b[1;32m    405\u001b[0m         \u001b[0;31m# Return the parsed data\u001b[0m\u001b[0;34m\u001b[0m\u001b[0;34m\u001b[0m\u001b[0;34m\u001b[0m\u001b[0m\n\u001b[1;32m    406\u001b[0m         \u001b[0mparser\u001b[0m \u001b[0;34m=\u001b[0m \u001b[0mrest_parsers\u001b[0m\u001b[0;34m[\u001b[0m\u001b[0mparse_format\u001b[0m\u001b[0;34m]\u001b[0m\u001b[0;34m[\u001b[0m\u001b[0;36m0\u001b[0m\u001b[0;34m]\u001b[0m\u001b[0;34m\u001b[0m\u001b[0;34m\u001b[0m\u001b[0m\n\u001b[0;32m--> 407\u001b[0;31m         \u001b[0;32mreturn\u001b[0m \u001b[0mparser\u001b[0m\u001b[0;34m(\u001b[0m\u001b[0mself\u001b[0m\u001b[0;34m,\u001b[0m \u001b[0mdata\u001b[0m\u001b[0;34m)\u001b[0m\u001b[0;34m\u001b[0m\u001b[0;34m\u001b[0m\u001b[0m\n\u001b[0m\u001b[1;32m    408\u001b[0m \u001b[0;34m\u001b[0m\u001b[0m\n\u001b[1;32m    409\u001b[0m     \u001b[0;32mdef\u001b[0m \u001b[0m_extract_upload_response_format\u001b[0m\u001b[0;34m(\u001b[0m\u001b[0mself\u001b[0m\u001b[0;34m,\u001b[0m \u001b[0mkwargs\u001b[0m\u001b[0;34m)\u001b[0m\u001b[0;34m:\u001b[0m\u001b[0;34m\u001b[0m\u001b[0;34m\u001b[0m\u001b[0m\n",
      "\u001b[0;32m~/opt/anaconda3/lib/python3.7/site-packages/flickrapi/core.py\u001b[0m in \u001b[0;36mparse_json\u001b[0;34m(self, json_string)\u001b[0m\n\u001b[1;32m    260\u001b[0m         \u001b[0;32mif\u001b[0m \u001b[0mparsed\u001b[0m\u001b[0;34m.\u001b[0m\u001b[0mget\u001b[0m\u001b[0;34m(\u001b[0m\u001b[0;34m'stat'\u001b[0m\u001b[0;34m,\u001b[0m \u001b[0;34m''\u001b[0m\u001b[0;34m)\u001b[0m \u001b[0;34m==\u001b[0m \u001b[0;34m'fail'\u001b[0m\u001b[0;34m:\u001b[0m\u001b[0;34m\u001b[0m\u001b[0;34m\u001b[0m\u001b[0m\n\u001b[1;32m    261\u001b[0m             raise FlickrError(six.u('Error: %(code)s: %(message)s') % parsed,\n\u001b[0;32m--> 262\u001b[0;31m                               code=parsed['code'])\n\u001b[0m\u001b[1;32m    263\u001b[0m         \u001b[0;32mreturn\u001b[0m \u001b[0mparsed\u001b[0m\u001b[0;34m\u001b[0m\u001b[0;34m\u001b[0m\u001b[0m\n\u001b[1;32m    264\u001b[0m \u001b[0;34m\u001b[0m\u001b[0m\n",
      "\u001b[0;31mFlickrError\u001b[0m: Error: 1: Group not found"
     ]
    }
   ],
   "source": [
    "api_key = secrets['KEY']\n",
    "api_password = secrets['SECRET']\n",
    "flickr = flickrapi.FlickrAPI(api_key, api_password, format='parsed-json')\n",
    "\n",
    "GROUP_ID = flickr.urls.getGroup(url=GROUP_URL)\n",
    "\n",
    "r = flickr.groups.pools.getPhotos(group_id=GROUP_ID)"
   ]
  },
  {
   "cell_type": "code",
   "execution_count": 18,
   "metadata": {
    "scrolled": false
   },
   "outputs": [
    {
     "name": "stdout",
     "output_type": "stream",
     "text": [
      "<a href=https://live.staticflickr.com/65535/50442290947_bed7ae57df_b.jpg data-lightbox='14665180@N23' title='<a href=\"https://www.flickr.com/photos/38792820@N05/50442290947\"> Jörn by Eero Okkonen</a>'><img src='https://live.staticflickr.com/65535/50442290947_bed7ae57df_w.jpg'></a>\n",
      "<a href=https://live.staticflickr.com/65535/50441203161_4a49441a26_b.jpg data-lightbox='14665180@N23' title='<a href=\"https://www.flickr.com/photos/79979525@N04/50441203161\"> First Contact by ▷Cezium◁</a>'><img src='https://live.staticflickr.com/65535/50441203161_4a49441a26_w.jpg'></a>\n",
      "<a href=https://live.staticflickr.com/65535/50404022013_6935c669f7_b.jpg data-lightbox='14665180@N23' title='<a href=\"https://www.flickr.com/photos/188495704@N06/50404022013\"> Gali by buttloaf_builds</a>'><img src='https://live.staticflickr.com/65535/50404022013_6935c669f7_w.jpg'></a>\n",
      "<a href=https://live.staticflickr.com/65535/50404139618_1e56147ba2_b.jpg data-lightbox='14665180@N23' title='<a href=\"https://www.flickr.com/photos/62196035@N07/50404139618\"> Kahtuku by Gamma-Raay</a>'><img src='https://live.staticflickr.com/65535/50404139618_1e56147ba2_w.jpg'></a>\n",
      "<a href=https://live.staticflickr.com/65535/50403786943_636ee2e747_b.jpg data-lightbox='14665180@N23' title='<a href=\"https://www.flickr.com/photos/147112766@N06/50403786943\"> Onua by Space Glove</a>'><img src='https://live.staticflickr.com/65535/50403786943_636ee2e747_w.jpg'></a>\n",
      "<a href=https://live.staticflickr.com/65535/50404659056_c103ea1f62_b.jpg data-lightbox='14665180@N23' title='<a href=\"https://www.flickr.com/photos/58652194@N05/50404659056\"> Mazeka by ϟ Sparks ϟ</a>'><img src='https://live.staticflickr.com/65535/50404659056_c103ea1f62_w.jpg'></a>\n",
      "<a href=https://live.staticflickr.com/65535/50404650321_a37b080984_b.jpg data-lightbox='14665180@N23' title='<a href=\"https://www.flickr.com/photos/145968503@N02/50404650321\"> Takanuva by Sergei Rahkmaninoff</a>'><img src='https://live.staticflickr.com/65535/50404650321_a37b080984_w.jpg'></a>\n",
      "<a href=https://live.staticflickr.com/65535/50401452922_396b458e76_b.jpg data-lightbox='14665180@N23' title='<a href=\"https://www.flickr.com/photos/79979525@N04/50401452922\"> Daedalus by ▷Cezium◁</a>'><img src='https://live.staticflickr.com/65535/50401452922_396b458e76_w.jpg'></a>\n",
      "<a href=https://live.staticflickr.com/65535/50388608291_98973c7067_b.jpg data-lightbox='14665180@N23' title='<a href=\"https://www.flickr.com/photos/153394945@N07/50388608291\"> Sam the Scuba Diver by [Jack Frost]</a>'><img src='https://live.staticflickr.com/65535/50388608291_98973c7067_w.jpg'></a>\n",
      "<a href=https://live.staticflickr.com/65535/50378928817_156c3f9ffd_b.jpg data-lightbox='14665180@N23' title='<a href=\"https://www.flickr.com/photos/134183198@N05/50378928817\"> Kopaka by Poor Disadvantaged</a>'><img src='https://live.staticflickr.com/65535/50378928817_156c3f9ffd_w.jpg'></a>\n",
      "<a href=https://live.staticflickr.com/65535/50379988596_1078b62ef3_b.jpg data-lightbox='14665180@N23' title='<a href=\"https://www.flickr.com/photos/187506601@N05/50379988596\"> Antroz, the Living Blight by Cody Avery Builds</a>'><img src='https://live.staticflickr.com/65535/50379988596_1078b62ef3_w.jpg'></a>\n",
      "<a href=https://live.staticflickr.com/65535/50380168822_07e930e38e_b.jpg data-lightbox='14665180@N23' title='<a href=\"https://www.flickr.com/photos/187506601@N05/50380168822\"> Antroz, the Living Blight by Cody Avery Builds</a>'><img src='https://live.staticflickr.com/65535/50380168822_07e930e38e_w.jpg'></a>\n",
      "<a href=https://live.staticflickr.com/65535/50379161847_c43e08cd72_b.jpg data-lightbox='14665180@N23' title='<a href=\"https://www.flickr.com/photos/187506601@N05/50379161847\"> Antroz, the Living Blight by Cody Avery Builds</a>'><img src='https://live.staticflickr.com/65535/50379161847_c43e08cd72_w.jpg'></a>\n",
      "<a href=https://live.staticflickr.com/65535/50378127898_0aeb3c61a4_b.jpg data-lightbox='14665180@N23' title='<a href=\"https://www.flickr.com/photos/59825735@N06/50378127898\"> Lewa by Johann Dakitsch</a>'><img src='https://live.staticflickr.com/65535/50378127898_0aeb3c61a4_w.jpg'></a>\n",
      "<a href=https://live.staticflickr.com/65535/50379142562_68f8d3a64d_b.jpg data-lightbox='14665180@N23' title='<a href=\"https://www.flickr.com/photos/142731206@N07/50379142562\"> Pohatu by Pohaturon</a>'><img src='https://live.staticflickr.com/65535/50379142562_68f8d3a64d_w.jpg'></a>\n",
      "<a href=https://live.staticflickr.com/65535/50379092036_fd7cfc0069_b.jpg data-lightbox='14665180@N23' title='<a href=\"https://www.flickr.com/photos/12923530@N02/50379092036\"> Mutran and Vican by dviddy</a>'><img src='https://live.staticflickr.com/65535/50379092036_fd7cfc0069_w.jpg'></a>\n",
      "<a href=https://live.staticflickr.com/65535/50378147298_446f5cb1db_b.jpg data-lightbox='14665180@N23' title='<a href=\"https://www.flickr.com/photos/79979525@N04/50378147298\"> Icarax by ▷Cezium◁</a>'><img src='https://live.staticflickr.com/65535/50378147298_446f5cb1db_w.jpg'></a>\n",
      "<a href=https://live.staticflickr.com/65535/50375067196_640afc47d6_b.jpg data-lightbox='14665180@N23' title='<a href=\"https://www.flickr.com/photos/62918870@N04/50375067196\"> Artakha by Kingmarshy</a>'><img src='https://live.staticflickr.com/65535/50375067196_640afc47d6_w.jpg'></a>\n",
      "<a href=https://live.staticflickr.com/65535/50371639203_f069cb9b6d_b.jpg data-lightbox='14665180@N23' title='<a href=\"https://www.flickr.com/photos/147112766@N06/50371639203\"> Star Spawn of Cthulhu by Space Glove</a>'><img src='https://live.staticflickr.com/65535/50371639203_f069cb9b6d_w.jpg'></a>\n",
      "<a href=https://live.staticflickr.com/65535/50364403061_a255b86fa8_b.jpg data-lightbox='14665180@N23' title='<a href=\"https://www.flickr.com/photos/131756068@N02/50364403061\"> Swohl, the Matoran Nui by Also known as N... Mister N</a>'><img src='https://live.staticflickr.com/65535/50364403061_a255b86fa8_w.jpg'></a>\n",
      "<a href=https://live.staticflickr.com/65535/50364564177_d28f5b1f7d_b.jpg data-lightbox='14665180@N23' title='<a href=\"https://www.flickr.com/photos/131756068@N02/50364564177\"> Roh-dunka, the Bohrok Kal Nui by Also known as N... Mister N</a>'><img src='https://live.staticflickr.com/65535/50364564177_d28f5b1f7d_w.jpg'></a>\n",
      "<a href=https://live.staticflickr.com/65535/50367909086_952ebc42c1_b.jpg data-lightbox='14665180@N23' title='<a href=\"https://www.flickr.com/photos/62196035@N07/50367909086\"> Artakha by Gamma-Raay</a>'><img src='https://live.staticflickr.com/65535/50367909086_952ebc42c1_w.jpg'></a>\n",
      "<a href=https://live.staticflickr.com/65535/50367241762_644cbf81ea_b.jpg data-lightbox='14665180@N23' title='<a href=\"https://www.flickr.com/photos/155972559@N08/50367241762\"> Tyto by jayfa_mocs</a>'><img src='https://live.staticflickr.com/65535/50367241762_644cbf81ea_w.jpg'></a>\n",
      "<a href=https://live.staticflickr.com/65535/50363502246_daecf72061_b.jpg data-lightbox='14665180@N23' title='<a href=\"https://www.flickr.com/photos/187506601@N05/50363502246\"> Alpha-Protocairn by Cody Avery Builds</a>'><img src='https://live.staticflickr.com/65535/50363502246_daecf72061_w.jpg'></a>\n",
      "<a href=https://live.staticflickr.com/65535/50362808538_9087c6473e_b.jpg data-lightbox='14665180@N23' title='<a href=\"https://www.flickr.com/photos/187506601@N05/50362808538\"> Alpha-Protocairn by Cody Avery Builds</a>'><img src='https://live.staticflickr.com/65535/50362808538_9087c6473e_w.jpg'></a>\n",
      "<a href=https://live.staticflickr.com/65535/50363635493_a79bf9bb1d_b.jpg data-lightbox='14665180@N23' title='<a href=\"https://www.flickr.com/photos/187506601@N05/50363635493\"> Alpha-Protocairn by Cody Avery Builds</a>'><img src='https://live.staticflickr.com/65535/50363635493_a79bf9bb1d_w.jpg'></a>\n",
      "<a href=https://live.staticflickr.com/65535/50364455841_6ce5f3cd40_b.jpg data-lightbox='14665180@N23' title='<a href=\"https://www.flickr.com/photos/58652194@N05/50364455841\"> Glatorian of the Wild by ϟ Sparks ϟ</a>'><img src='https://live.staticflickr.com/65535/50364455841_6ce5f3cd40_w.jpg'></a>\n",
      "<a href=https://live.staticflickr.com/65535/50363685153_ec566dd749_b.jpg data-lightbox='14665180@N23' title='<a href=\"https://www.flickr.com/photos/144949303@N02/50363685153\"> Alpha Kraahu by _CZQ_</a>'><img src='https://live.staticflickr.com/65535/50363685153_ec566dd749_w.jpg'></a>\n",
      "<a href=https://live.staticflickr.com/65535/50364392811_ac1a933e13_b.jpg data-lightbox='14665180@N23' title='<a href=\"https://www.flickr.com/photos/147112766@N06/50364392811\"> Rino-Jaga by Space Glove</a>'><img src='https://live.staticflickr.com/65535/50364392811_ac1a933e13_w.jpg'></a>\n"
     ]
    },
    {
     "name": "stdout",
     "output_type": "stream",
     "text": [
      "<a href=https://live.staticflickr.com/65535/50364379277_c7f9d3f5fc_b.jpg data-lightbox='14665180@N23' title='<a href=\"https://www.flickr.com/photos/145968503@N02/50364379277\"> Dark Hunter Exactor by Sergei Rahkmaninoff</a>'><img src='https://live.staticflickr.com/65535/50364379277_c7f9d3f5fc_w.jpg'></a>\n"
     ]
    }
   ],
   "source": [
    "# Loop through photos and print html code for each.\n",
    "count = 0\n",
    "\n",
    "for photo in r['photos']['photo']:\n",
    "    if count == 30:\n",
    "        break\n",
    "        \n",
    "    info = photo #dict(photo.items())\n",
    "    \n",
    "    thumb = 'https://live.staticflickr.com/'+info['server']+'/'+info['id']+'_'+info['secret']+'_w.jpg'\n",
    "    full = 'https://live.staticflickr.com/'+info['server']+'/'+info['id']+'_'+info['secret']+'_b.jpg'\n",
    "    link = 'https://www.flickr.com/photos/' +info['owner'] +'/' + info['id']\n",
    "    \n",
    "    user = dict(flickr.people.getInfo(user_id=info['owner']))\n",
    "    name = user['person']['username']['_content']\n",
    "    \n",
    "    title = '<a href=\"'+ link +'\"> '+ info['title'] +' by '+ name + '</a>'\n",
    "    print(\"<a href=\"+full+\" data-lightbox='\"+ GROUP_ID +\"' title='\"+title+\"'><img src='\"+thumb+\"'></a>\")\n",
    "    \n",
    "    count = count + 1"
   ]
  },
  {
   "cell_type": "code",
   "execution_count": 9,
   "metadata": {},
   "outputs": [
    {
     "data": {
      "text/plain": [
       "30"
      ]
     },
     "execution_count": 9,
     "metadata": {},
     "output_type": "execute_result"
    }
   ],
   "source": [
    "count "
   ]
  },
  {
   "cell_type": "code",
   "execution_count": null,
   "metadata": {},
   "outputs": [],
   "source": []
  }
 ],
 "metadata": {
  "kernelspec": {
   "display_name": "Python 3",
   "language": "python",
   "name": "python3"
  },
  "language_info": {
   "codemirror_mode": {
    "name": "ipython",
    "version": 3
   },
   "file_extension": ".py",
   "mimetype": "text/x-python",
   "name": "python",
   "nbconvert_exporter": "python",
   "pygments_lexer": "ipython3",
   "version": "3.7.4"
  }
 },
 "nbformat": 4,
 "nbformat_minor": 2
}
