{
 "cells": [
  {
   "cell_type": "code",
   "execution_count": 13,
   "metadata": {},
   "outputs": [],
   "source": [
    "# Take in a flickr group id and spit out html code for 30 most recent images to be on website"
   ]
  },
  {
   "cell_type": "code",
   "execution_count": 14,
   "metadata": {},
   "outputs": [],
   "source": [
    "# This product uses the Flickr API but is not endorsed or certified by SmugMug, Inc."
   ]
  },
  {
   "cell_type": "code",
   "execution_count": 20,
   "metadata": {},
   "outputs": [],
   "source": [
    "# EP-LUG URL: https://www.flickr.com/groups/14665180@N23/\n",
    "GROUP_ID = '14665180@N23'\n",
    "# GROUP_URL = 'https://www.flickr.com/groups/14665180@N23/'"
   ]
  },
  {
   "cell_type": "code",
   "execution_count": 21,
   "metadata": {},
   "outputs": [],
   "source": [
    "import json\n",
    "import xml.etree.ElementTree as ET\n",
    "import flickrapi\n",
    "\n",
    "with open('/Users/mitch/Documents/secrets/flickr/credentials.json') as f:\n",
    "  secrets = json.load(f)"
   ]
  },
  {
   "cell_type": "code",
   "execution_count": 22,
   "metadata": {},
   "outputs": [],
   "source": [
    "api_key = secrets['KEY']\n",
    "api_password = secrets['SECRET']\n",
    "flickr = flickrapi.FlickrAPI(api_key, api_password, format='parsed-json')\n",
    "\n",
    "# GROUP_ID = flickr.urls.getGroup(url=GROUP_URL)\n",
    "\n",
    "r = flickr.groups.pools.getPhotos(group_id=GROUP_ID)"
   ]
  },
  {
   "cell_type": "code",
   "execution_count": 23,
   "metadata": {
    "scrolled": false
   },
   "outputs": [
    {
     "name": "stdout",
     "output_type": "stream",
     "text": [
      "<a href=https://live.staticflickr.com/65535/50494984538_20be52941d_b.jpg data-lightbox='14665180@N23' title='<a href=\"https://www.flickr.com/photos/62196035@N07/50494984538\"> Ko-Koro Guards by Gamma-Raay</a>'><img src='https://live.staticflickr.com/65535/50494984538_20be52941d_w.jpg'></a>\n",
      "<a href=https://live.staticflickr.com/65535/50488903638_fd7c4555ae_b.jpg data-lightbox='14665180@N23' title='<a href=\"https://www.flickr.com/photos/58652194@N05/50488903638\"> Rotor by ϟ Sparks ϟ</a>'><img src='https://live.staticflickr.com/65535/50488903638_fd7c4555ae_w.jpg'></a>\n",
      "<a href=https://live.staticflickr.com/65535/50481120072_5bfac1c7ef_b.jpg data-lightbox='14665180@N23' title='<a href=\"https://www.flickr.com/photos/58652194@N05/50481120072\"> Corroder by ϟ Sparks ϟ</a>'><img src='https://live.staticflickr.com/65535/50481120072_5bfac1c7ef_w.jpg'></a>\n",
      "<a href=https://live.staticflickr.com/65535/50470940238_c0a7575485_b.jpg data-lightbox='14665180@N23' title='<a href=\"https://www.flickr.com/photos/58652194@N05/50470940238\"> XPlode by ϟ Sparks ϟ</a>'><img src='https://live.staticflickr.com/65535/50470940238_c0a7575485_w.jpg'></a>\n",
      "<a href=https://live.staticflickr.com/65535/50462050872_9f08c17c95_b.jpg data-lightbox='14665180@N23' title='<a href=\"https://www.flickr.com/photos/58652194@N05/50462050872\"> Meltdown by ϟ Sparks ϟ</a>'><img src='https://live.staticflickr.com/65535/50462050872_9f08c17c95_w.jpg'></a>\n",
      "<a href=https://live.staticflickr.com/65535/50445392878_bafd10962b_b.jpg data-lightbox='14665180@N23' title='<a href=\"https://www.flickr.com/photos/85431556@N07/50445392878\"> Trooper Harpaxus by Ballom Nom Nom</a>'><img src='https://live.staticflickr.com/65535/50445392878_bafd10962b_w.jpg'></a>\n",
      "<a href=https://live.staticflickr.com/65535/50442290947_bed7ae57df_b.jpg data-lightbox='14665180@N23' title='<a href=\"https://www.flickr.com/photos/38792820@N05/50442290947\"> Jörn by Eero Okkonen</a>'><img src='https://live.staticflickr.com/65535/50442290947_bed7ae57df_w.jpg'></a>\n",
      "<a href=https://live.staticflickr.com/65535/50441203161_4a49441a26_b.jpg data-lightbox='14665180@N23' title='<a href=\"https://www.flickr.com/photos/79979525@N04/50441203161\"> First Contact by ▷Cezium◁</a>'><img src='https://live.staticflickr.com/65535/50441203161_4a49441a26_w.jpg'></a>\n",
      "<a href=https://live.staticflickr.com/65535/50404022013_6935c669f7_b.jpg data-lightbox='14665180@N23' title='<a href=\"https://www.flickr.com/photos/188495704@N06/50404022013\"> Gali by buttloaf_builds</a>'><img src='https://live.staticflickr.com/65535/50404022013_6935c669f7_w.jpg'></a>\n",
      "<a href=https://live.staticflickr.com/65535/50404139618_1e56147ba2_b.jpg data-lightbox='14665180@N23' title='<a href=\"https://www.flickr.com/photos/62196035@N07/50404139618\"> Kahtuku by Gamma-Raay</a>'><img src='https://live.staticflickr.com/65535/50404139618_1e56147ba2_w.jpg'></a>\n",
      "<a href=https://live.staticflickr.com/65535/50403786943_636ee2e747_b.jpg data-lightbox='14665180@N23' title='<a href=\"https://www.flickr.com/photos/147112766@N06/50403786943\"> Onua by Space Glove</a>'><img src='https://live.staticflickr.com/65535/50403786943_636ee2e747_w.jpg'></a>\n",
      "<a href=https://live.staticflickr.com/65535/50404659056_c103ea1f62_b.jpg data-lightbox='14665180@N23' title='<a href=\"https://www.flickr.com/photos/58652194@N05/50404659056\"> Mazeka by ϟ Sparks ϟ</a>'><img src='https://live.staticflickr.com/65535/50404659056_c103ea1f62_w.jpg'></a>\n",
      "<a href=https://live.staticflickr.com/65535/50404650321_a37b080984_b.jpg data-lightbox='14665180@N23' title='<a href=\"https://www.flickr.com/photos/145968503@N02/50404650321\"> Takanuva by Sergei Rahkmaninoff</a>'><img src='https://live.staticflickr.com/65535/50404650321_a37b080984_w.jpg'></a>\n",
      "<a href=https://live.staticflickr.com/65535/50401452922_396b458e76_b.jpg data-lightbox='14665180@N23' title='<a href=\"https://www.flickr.com/photos/79979525@N04/50401452922\"> Daedalus by ▷Cezium◁</a>'><img src='https://live.staticflickr.com/65535/50401452922_396b458e76_w.jpg'></a>\n",
      "<a href=https://live.staticflickr.com/65535/50388608291_98973c7067_b.jpg data-lightbox='14665180@N23' title='<a href=\"https://www.flickr.com/photos/153394945@N07/50388608291\"> Sam the Scuba Diver by [Jack Frost]</a>'><img src='https://live.staticflickr.com/65535/50388608291_98973c7067_w.jpg'></a>\n",
      "<a href=https://live.staticflickr.com/65535/50378928817_156c3f9ffd_b.jpg data-lightbox='14665180@N23' title='<a href=\"https://www.flickr.com/photos/134183198@N05/50378928817\"> Kopaka by Poor Disadvantaged</a>'><img src='https://live.staticflickr.com/65535/50378928817_156c3f9ffd_w.jpg'></a>\n",
      "<a href=https://live.staticflickr.com/65535/50379988596_1078b62ef3_b.jpg data-lightbox='14665180@N23' title='<a href=\"https://www.flickr.com/photos/187506601@N05/50379988596\"> Antroz, the Living Blight by Cody Avery Builds</a>'><img src='https://live.staticflickr.com/65535/50379988596_1078b62ef3_w.jpg'></a>\n",
      "<a href=https://live.staticflickr.com/65535/50380168822_07e930e38e_b.jpg data-lightbox='14665180@N23' title='<a href=\"https://www.flickr.com/photos/187506601@N05/50380168822\"> Antroz, the Living Blight by Cody Avery Builds</a>'><img src='https://live.staticflickr.com/65535/50380168822_07e930e38e_w.jpg'></a>\n",
      "<a href=https://live.staticflickr.com/65535/50379161847_c43e08cd72_b.jpg data-lightbox='14665180@N23' title='<a href=\"https://www.flickr.com/photos/187506601@N05/50379161847\"> Antroz, the Living Blight by Cody Avery Builds</a>'><img src='https://live.staticflickr.com/65535/50379161847_c43e08cd72_w.jpg'></a>\n",
      "<a href=https://live.staticflickr.com/65535/50378127898_0aeb3c61a4_b.jpg data-lightbox='14665180@N23' title='<a href=\"https://www.flickr.com/photos/59825735@N06/50378127898\"> Lewa by Johann Dakitsch</a>'><img src='https://live.staticflickr.com/65535/50378127898_0aeb3c61a4_w.jpg'></a>\n",
      "<a href=https://live.staticflickr.com/65535/50379142562_68f8d3a64d_b.jpg data-lightbox='14665180@N23' title='<a href=\"https://www.flickr.com/photos/142731206@N07/50379142562\"> Pohatu by Pohaturon</a>'><img src='https://live.staticflickr.com/65535/50379142562_68f8d3a64d_w.jpg'></a>\n",
      "<a href=https://live.staticflickr.com/65535/50379092036_fd7cfc0069_b.jpg data-lightbox='14665180@N23' title='<a href=\"https://www.flickr.com/photos/12923530@N02/50379092036\"> Mutran and Vican by dviddy</a>'><img src='https://live.staticflickr.com/65535/50379092036_fd7cfc0069_w.jpg'></a>\n",
      "<a href=https://live.staticflickr.com/65535/50378147298_446f5cb1db_b.jpg data-lightbox='14665180@N23' title='<a href=\"https://www.flickr.com/photos/79979525@N04/50378147298\"> Icarax by ▷Cezium◁</a>'><img src='https://live.staticflickr.com/65535/50378147298_446f5cb1db_w.jpg'></a>\n",
      "<a href=https://live.staticflickr.com/65535/50375067196_640afc47d6_b.jpg data-lightbox='14665180@N23' title='<a href=\"https://www.flickr.com/photos/62918870@N04/50375067196\"> Artakha by Kingmarshy</a>'><img src='https://live.staticflickr.com/65535/50375067196_640afc47d6_w.jpg'></a>\n",
      "<a href=https://live.staticflickr.com/65535/50371639203_f069cb9b6d_b.jpg data-lightbox='14665180@N23' title='<a href=\"https://www.flickr.com/photos/147112766@N06/50371639203\"> Star Spawn of Cthulhu by Space Glove</a>'><img src='https://live.staticflickr.com/65535/50371639203_f069cb9b6d_w.jpg'></a>\n",
      "<a href=https://live.staticflickr.com/65535/50364403061_a255b86fa8_b.jpg data-lightbox='14665180@N23' title='<a href=\"https://www.flickr.com/photos/131756068@N02/50364403061\"> Swohl, the Matoran Nui by Also known as N... Mister N</a>'><img src='https://live.staticflickr.com/65535/50364403061_a255b86fa8_w.jpg'></a>\n",
      "<a href=https://live.staticflickr.com/65535/50364564177_d28f5b1f7d_b.jpg data-lightbox='14665180@N23' title='<a href=\"https://www.flickr.com/photos/131756068@N02/50364564177\"> Roh-dunka, the Bohrok Kal Nui by Also known as N... Mister N</a>'><img src='https://live.staticflickr.com/65535/50364564177_d28f5b1f7d_w.jpg'></a>\n",
      "<a href=https://live.staticflickr.com/65535/50367909086_952ebc42c1_b.jpg data-lightbox='14665180@N23' title='<a href=\"https://www.flickr.com/photos/62196035@N07/50367909086\"> Artakha by Gamma-Raay</a>'><img src='https://live.staticflickr.com/65535/50367909086_952ebc42c1_w.jpg'></a>\n",
      "<a href=https://live.staticflickr.com/65535/50367241762_644cbf81ea_b.jpg data-lightbox='14665180@N23' title='<a href=\"https://www.flickr.com/photos/155972559@N08/50367241762\"> Tyto by jayfa_mocs</a>'><img src='https://live.staticflickr.com/65535/50367241762_644cbf81ea_w.jpg'></a>\n",
      "<a href=https://live.staticflickr.com/65535/50363502246_daecf72061_b.jpg data-lightbox='14665180@N23' title='<a href=\"https://www.flickr.com/photos/187506601@N05/50363502246\"> Alpha-Protocairn by Cody Avery Builds</a>'><img src='https://live.staticflickr.com/65535/50363502246_daecf72061_w.jpg'></a>\n"
     ]
    }
   ],
   "source": [
    "# Loop through photos and print html code for each.\n",
    "count = 0\n",
    "\n",
    "for photo in r['photos']['photo']:\n",
    "    if count == 30:\n",
    "        break\n",
    "        \n",
    "    info = photo #dict(photo.items())\n",
    "    \n",
    "    thumb = 'https://live.staticflickr.com/'+info['server']+'/'+info['id']+'_'+info['secret']+'_w.jpg'\n",
    "    full = 'https://live.staticflickr.com/'+info['server']+'/'+info['id']+'_'+info['secret']+'_b.jpg'\n",
    "    link = 'https://www.flickr.com/photos/' +info['owner'] +'/' + info['id']\n",
    "    \n",
    "    user = dict(flickr.people.getInfo(user_id=info['owner']))\n",
    "    name = user['person']['username']['_content']\n",
    "    \n",
    "    title = '<a href=\"'+ link +'\"> '+ info['title'] +' by '+ name + '</a>'\n",
    "    print(\"<a href=\"+full+\" data-lightbox='\"+ GROUP_ID +\"' title='\"+title+\"'><img src='\"+thumb+\"'></a>\")\n",
    "    \n",
    "    count = count + 1"
   ]
  },
  {
   "cell_type": "code",
   "execution_count": 9,
   "metadata": {},
   "outputs": [
    {
     "data": {
      "text/plain": [
       "30"
      ]
     },
     "execution_count": 9,
     "metadata": {},
     "output_type": "execute_result"
    }
   ],
   "source": [
    "count "
   ]
  },
  {
   "cell_type": "code",
   "execution_count": null,
   "metadata": {},
   "outputs": [],
   "source": []
  }
 ],
 "metadata": {
  "kernelspec": {
   "display_name": "Python 3",
   "language": "python",
   "name": "python3"
  },
  "language_info": {
   "codemirror_mode": {
    "name": "ipython",
    "version": 3
   },
   "file_extension": ".py",
   "mimetype": "text/x-python",
   "name": "python",
   "nbconvert_exporter": "python",
   "pygments_lexer": "ipython3",
   "version": "3.7.4"
  }
 },
 "nbformat": 4,
 "nbformat_minor": 2
}
