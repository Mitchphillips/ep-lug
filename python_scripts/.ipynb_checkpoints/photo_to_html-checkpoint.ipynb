{
 "cells": [
  {
   "cell_type": "code",
   "execution_count": 1,
   "metadata": {},
   "outputs": [],
   "source": [
    "# Take in a flickr photo url and spit out html code for that image to be on a website"
   ]
  },
  {
   "cell_type": "code",
   "execution_count": 2,
   "metadata": {},
   "outputs": [],
   "source": [
    "# This product uses the Flickr API but is not endorsed or certified by SmugMug, Inc."
   ]
  },
  {
   "cell_type": "code",
   "execution_count": 124,
   "metadata": {},
   "outputs": [],
   "source": [
    "PHOTO_ID = '36857381574'\n",
    "GALLERY_NAME = 'biocup2017'"
   ]
  },
  {
   "cell_type": "code",
   "execution_count": 125,
   "metadata": {},
   "outputs": [],
   "source": [
    "import json\n",
    "import xml.etree.ElementTree as ET\n",
    "import flickrapi\n",
    "\n",
    "with open('/Users/mitch/Documents/secrets/flickr/credentials.json') as f:\n",
    "  secrets = json.load(f)"
   ]
  },
  {
   "cell_type": "code",
   "execution_count": 126,
   "metadata": {},
   "outputs": [],
   "source": [
    "api_key = secrets['KEY']\n",
    "api_password = secrets['SECRET']\n",
    "flickr = flickrapi.FlickrAPI(api_key, api_password, format='parsed-json')\n",
    "\n",
    "r = flickr.photos.getInfo(photo_id=PHOTO_ID)"
   ]
  },
  {
   "cell_type": "code",
   "execution_count": 127,
   "metadata": {},
   "outputs": [
    {
     "name": "stdout",
     "output_type": "stream",
     "text": [
      "<a href=https://live.staticflickr.com/4487/36857381574_c21f96c06f_b.jpg data-lightbox='biocup2017' title='<a href=\"https://www.flickr.com/photos/58652194@N05/36857381574\"> Shaman Dabez by ϟ Sparks ϟ</a>'><img src='https://live.staticflickr.com/4487/36857381574_c21f96c06f_w.jpg'></a>\n"
     ]
    }
   ],
   "source": [
    "photo = r['photo']\n",
    "info = photo\n",
    "thumb = 'https://live.staticflickr.com/'+info['server']+'/'+info['id']+'_'+info['secret']+'_w.jpg'\n",
    "full = 'https://live.staticflickr.com/'+info['server']+'/'+info['id']+'_'+info['secret']+'_b.jpg'\n",
    "link = 'https://www.flickr.com/photos/' +info['owner']['nsid'] +'/' + info['id']\n",
    "\n",
    "user = dict(flickr.people.getInfo(user_id=info['owner']['nsid']))\n",
    "name = user['person']['username']['_content']\n",
    "\n",
    "title = '<a href=\"'+ link +'\" target=\"_blank\" > '+ info['title']['_content'] +' by '+ name + '</a>'\n",
    "print(\"<a href=\"+full+\" data-lightbox='\"+ GALLERY_NAME +\"' title='\"+title+\"'><img src='\"+thumb+\"'></a>\")"
   ]
  },
  {
   "cell_type": "code",
   "execution_count": null,
   "metadata": {},
   "outputs": [],
   "source": []
  }
 ],
 "metadata": {
  "kernelspec": {
   "display_name": "Python 3",
   "language": "python",
   "name": "python3"
  },
  "language_info": {
   "codemirror_mode": {
    "name": "ipython",
    "version": 3
   },
   "file_extension": ".py",
   "mimetype": "text/x-python",
   "name": "python",
   "nbconvert_exporter": "python",
   "pygments_lexer": "ipython3",
   "version": "3.7.4"
  }
 },
 "nbformat": 4,
 "nbformat_minor": 2
}
