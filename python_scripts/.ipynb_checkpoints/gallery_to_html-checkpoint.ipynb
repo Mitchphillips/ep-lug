{
 "cells": [
  {
   "cell_type": "code",
   "execution_count": 8,
   "metadata": {},
   "outputs": [],
   "source": [
    "# Take in a flickr gallery id and spit out html code for all images to be on website"
   ]
  },
  {
   "cell_type": "code",
   "execution_count": 12,
   "metadata": {},
   "outputs": [],
   "source": [
    "# Gallery Id comes from the last number in the URL:                    V\n",
    "# https://www.flickr.com/photos/lordoblivionthegreat/galleries/72157676081958707/\n",
    "GALLERY_ID = '72157676081958707'"
   ]
  },
  {
   "cell_type": "code",
   "execution_count": 43,
   "metadata": {},
   "outputs": [],
   "source": [
    "import json\n",
    "import xml.etree.ElementTree as ET\n",
    "import flickrapi\n",
    "\n",
    "with open('/Users/mitch/Documents/secrets/flickr/credentials.json') as f:\n",
    "  secrets = json.load(f)"
   ]
  },
  {
   "cell_type": "code",
   "execution_count": 197,
   "metadata": {
    "scrolled": false
   },
   "outputs": [],
   "source": [
    "api_key = secrets['KEY']\n",
    "api_password = secrets['SECRET']\n",
    "flickr = flickrapi.FlickrAPI(api_key, api_password, format='parsed-json')\n",
    "\n",
    "r = flickr.galleries_getPhotos(gallery_id=GALLERY_ID)"
   ]
  },
  {
   "cell_type": "code",
   "execution_count": 80,
   "metadata": {},
   "outputs": [],
   "source": [
    "root = r.getroottree()\n",
    "photos = root.findall('photos')"
   ]
  },
  {
   "cell_type": "code",
   "execution_count": 226,
   "metadata": {},
   "outputs": [
    {
     "name": "stdout",
     "output_type": "stream",
     "text": [
      "<a href=https://live.staticflickr.com/4864/45446630985_47ab5593c5_b.jpg data-lightbox='my-gallery' title='<a href=\"https://www.flickr.com/photos/145968503@N02/45446630985\"> The Shepherd by Sergei Rahkmaninoff</a>'><img src='https://live.staticflickr.com/4864/45446630985_47ab5593c5_w.jpg'></a>\n",
      "<a href=https://live.staticflickr.com/4806/32371476368_c367d3ed72_b.jpg data-lightbox='my-gallery' title='<a href=\"https://www.flickr.com/photos/94755134@N06/32371476368\"> Cossy the Blue Warrior by Leonid An</a>'><img src='https://live.staticflickr.com/4806/32371476368_c367d3ed72_w.jpg'></a>\n",
      "<a href=https://live.staticflickr.com/4874/44399371120_7cfd92e738_b.jpg data-lightbox='my-gallery' title='<a href=\"https://www.flickr.com/photos/144949303@N02/44399371120\"> Conspirator by _CZQ_</a>'><img src='https://live.staticflickr.com/4874/44399371120_7cfd92e738_w.jpg'></a>\n",
      "<a href=https://live.staticflickr.com/4824/46162800961_3483c95cd1_b.jpg data-lightbox='my-gallery' title='<a href=\"https://www.flickr.com/photos/76895119@N03/46162800961\"> Dooplonian Wanderer by JakTheMad</a>'><img src='https://live.staticflickr.com/4824/46162800961_3483c95cd1_w.jpg'></a>\n",
      "<a href=https://live.staticflickr.com/4811/46078106652_8da5529692_b.jpg data-lightbox='my-gallery' title='<a href=\"https://www.flickr.com/photos/58652194@N05/46078106652\"> Zeren by ϟ Sparks ϟ</a>'><img src='https://live.staticflickr.com/4811/46078106652_8da5529692_w.jpg'></a>\n",
      "<a href=https://live.staticflickr.com/4870/44539963630_d6d366530a_b.jpg data-lightbox='my-gallery' title='<a href=\"https://www.flickr.com/photos/62196035@N07/44539963630\"> Lord Oblivion by Gamma-Raay</a>'><img src='https://live.staticflickr.com/4870/44539963630_d6d366530a_w.jpg'></a>\n",
      "<a href=https://live.staticflickr.com/4823/31383445837_87dace076c_b.jpg data-lightbox='my-gallery' title='<a href=\"https://www.flickr.com/photos/77107400@N05/31383445837\"> Eku The Turaga by Ben Cossy</a>'><img src='https://live.staticflickr.com/4823/31383445837_87dace076c_w.jpg'></a>\n",
      "<a href=https://live.staticflickr.com/4870/32454976768_a684fa7f2d_b.jpg data-lightbox='my-gallery' title='<a href=\"https://www.flickr.com/photos/85431556@N07/32454976768\"> Undead Knight  Pyotr by Ballom Nom Nom</a>'><img src='https://live.staticflickr.com/4870/32454976768_a684fa7f2d_w.jpg'></a>\n",
      "<a href=https://live.staticflickr.com/1910/31317390197_32401aa97c_b.jpg data-lightbox='my-gallery' title='<a href=\"https://www.flickr.com/photos/155972559@N08/31317390197\"> Gamma-Ray by jayfa_mocs</a>'><img src='https://live.staticflickr.com/1910/31317390197_32401aa97c_w.jpg'></a>\n",
      "<a href=https://live.staticflickr.com/4868/46397676902_3d58d2c516_b.jpg data-lightbox='my-gallery' title='<a href=\"https://www.flickr.com/photos/143240364@N07/46397676902\"> F’morqua, the Wave Striker by Luke_Staten</a>'><img src='https://live.staticflickr.com/4868/46397676902_3d58d2c516_w.jpg'></a>\n",
      "<a href=https://live.staticflickr.com/4886/44626867070_48ee9facd9_b.jpg data-lightbox='my-gallery' title='<a href=\"https://www.flickr.com/photos/79979525@N04/44626867070\"> GreenGuy by ▷Cezium◁</a>'><img src='https://live.staticflickr.com/4886/44626867070_48ee9facd9_w.jpg'></a>\n",
      "<a href=https://live.staticflickr.com/4868/45648047764_d23c80d895_b.jpg data-lightbox='my-gallery' title='<a href=\"https://www.flickr.com/photos/12923530@N02/45648047764\"> POPPET: PRHYMUS SUIT EDITION by dviddy</a>'><img src='https://live.staticflickr.com/4868/45648047764_d23c80d895_w.jpg'></a>\n",
      "<a href=https://live.staticflickr.com/7857/31518392967_1d85a4f4b0_b.jpg data-lightbox='my-gallery' title='<a href=\"https://www.flickr.com/photos/62918870@N04/31518392967\"> Dragon Lord Jaëvar by Kingmarshy</a>'><img src='https://live.staticflickr.com/7857/31518392967_1d85a4f4b0_w.jpg'></a>\n",
      "<a href=https://live.staticflickr.com/4843/46425010621_02be250767_b.jpg data-lightbox='my-gallery' title='<a href=\"https://www.flickr.com/photos/27648752@N03/46425010621\"> SGT Jak \"the Mad\" Haddon by Prhymus</a>'><img src='https://live.staticflickr.com/4843/46425010621_02be250767_w.jpg'></a>\n",
      "<a href=https://live.staticflickr.com/4902/32583042768_5f1303c310_b.jpg data-lightbox='my-gallery' title='<a href=\"https://www.flickr.com/photos/10267753@N03/32583042768\"> Harrowed Angel by optimus-convoy</a>'><img src='https://live.staticflickr.com/4902/32583042768_5f1303c310_w.jpg'></a>\n",
      "<a href=https://live.staticflickr.com/4864/31487837237_4f22e51492_b.jpg data-lightbox='my-gallery' title='<a href=\"https://www.flickr.com/photos/157900777@N08/31487837237\"> Vaihden: Fusion-Powered Gentleman by AlexParkDesigns</a>'><img src='https://live.staticflickr.com/4864/31487837237_4f22e51492_w.jpg'></a>\n",
      "<a href=https://live.staticflickr.com/4875/46409383382_286327d4c1_b.jpg data-lightbox='my-gallery' title='<a href=\"https://www.flickr.com/photos/131010008@N07/46409383382\"> Duke Marshy by Green Axles</a>'><img src='https://live.staticflickr.com/4875/46409383382_286327d4c1_w.jpg'></a>\n",
      "<a href=https://live.staticflickr.com/4824/44506046940_bb0dc5ede4_b.jpg data-lightbox='my-gallery' title='<a href=\"https://www.flickr.com/photos/98795587@N02/44506046940\"> Vay the Coffee Dragon by Anthony (The Secret Walrus) Wilson</a>'><img src='https://live.staticflickr.com/4824/44506046940_bb0dc5ede4_w.jpg'></a>\n"
     ]
    }
   ],
   "source": [
    "# Loop through photos and print html code for each.\n",
    "for photo in root.find('photos'):\n",
    "    info = dict(photo.items())\n",
    "    \n",
    "    thumb = 'https://live.staticflickr.com/'+info['server']+'/'+info['id']+'_'+info['secret']+'_w.jpg'\n",
    "    full = 'https://live.staticflickr.com/'+info['server']+'/'+info['id']+'_'+info['secret']+'_b.jpg'\n",
    "    link = 'https://www.flickr.com/photos/' +info['owner'] +'/' + info['id']\n",
    "    \n",
    "    user = dict(flickr.people.getInfo(user_id=info['owner']))\n",
    "    name = user['person']['username']['_content']\n",
    "    \n",
    "    title = '<a href=\"'+ link +'\"> '+ info['title'] +' by '+ name + '</a>'\n",
    "    print(\"<a href=\"+full+\" data-lightbox='\"+ GALLERY_ID +\"' title='\"+title+\"'><img src='\"+thumb+\"'></a>\")"
   ]
  },
  {
   "cell_type": "code",
   "execution_count": null,
   "metadata": {},
   "outputs": [],
   "source": []
  }
 ],
 "metadata": {
  "kernelspec": {
   "display_name": "Python 3",
   "language": "python",
   "name": "python3"
  },
  "language_info": {
   "codemirror_mode": {
    "name": "ipython",
    "version": 3
   },
   "file_extension": ".py",
   "mimetype": "text/x-python",
   "name": "python",
   "nbconvert_exporter": "python",
   "pygments_lexer": "ipython3",
   "version": "3.7.4"
  }
 },
 "nbformat": 4,
 "nbformat_minor": 2
}
