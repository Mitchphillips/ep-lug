{
 "cells": [
  {
   "cell_type": "code",
   "execution_count": 1,
   "metadata": {},
   "outputs": [],
   "source": [
    "# Take in a flickr gallery id and spit out html code for all images to be on website"
   ]
  },
  {
   "cell_type": "code",
   "execution_count": 2,
   "metadata": {},
   "outputs": [],
   "source": [
    "# This product uses the Flickr API but is not endorsed or certified by SmugMug, Inc."
   ]
  },
  {
   "cell_type": "code",
   "execution_count": 3,
   "metadata": {},
   "outputs": [],
   "source": [
    "# Gallery Id comes from the last number in the URL:                    V\n",
    "# https://www.flickr.com/photos/lordoblivionthegreat/galleries/72157676081958707/\n",
    "GALLERY_ID = '72157664774790527'"
   ]
  },
  {
   "cell_type": "code",
   "execution_count": 4,
   "metadata": {},
   "outputs": [],
   "source": [
    "import json\n",
    "import xml.etree.ElementTree as ET\n",
    "import flickrapi\n",
    "\n",
    "with open('/Users/mitch/Documents/secrets/flickr/credentials.json') as f:\n",
    "  secrets = json.load(f)"
   ]
  },
  {
   "cell_type": "code",
   "execution_count": 5,
   "metadata": {
    "scrolled": false
   },
   "outputs": [],
   "source": [
    "api_key = secrets['KEY']\n",
    "api_password = secrets['SECRET']\n",
    "flickr = flickrapi.FlickrAPI(api_key, api_password, format='parsed-json')\n",
    "\n",
    "r = flickr.galleries_getPhotos(gallery_id=GALLERY_ID)"
   ]
  },
  {
   "cell_type": "code",
   "execution_count": 6,
   "metadata": {},
   "outputs": [
    {
     "name": "stdout",
     "output_type": "stream",
     "text": [
      "<a href=https://live.staticflickr.com/4729/27516918489_69624eb990_b.jpg data-lightbox='72157664774790527' title='<a href=\"https://www.flickr.com/photos/125809520@N08/27516918489\" target=\"_blank\" > 54686520536176696f72 by Rеdverse</a>'><img src='https://live.staticflickr.com/4729/27516918489_69624eb990_w.jpg'></a>\n",
      "<a href=https://live.staticflickr.com/4445/37411258595_04a50ed980_b.jpg data-lightbox='72157664774790527' title='<a href=\"https://www.flickr.com/photos/125809520@N08/37411258595\" target=\"_blank\" > ST. 5065746572 by Rеdverse</a>'><img src='https://live.staticflickr.com/4445/37411258595_04a50ed980_w.jpg'></a>\n",
      "<a href=https://live.staticflickr.com/4402/36558845734_04fc78a196_b.jpg data-lightbox='72157664774790527' title='<a href=\"https://www.flickr.com/photos/125809520@N08/36558845734\" target=\"_blank\" > ST. 5061756c by Rеdverse</a>'><img src='https://live.staticflickr.com/4402/36558845734_04fc78a196_w.jpg'></a>\n",
      "<a href=https://live.staticflickr.com/4455/37237050172_b67c1d5707_b.jpg data-lightbox='72157664774790527' title='<a href=\"https://www.flickr.com/photos/27648752@N03/37237050172\" target=\"_blank\" > ST. 4142524148414D by Prhymus</a>'><img src='https://live.staticflickr.com/4455/37237050172_b67c1d5707_w.jpg'></a>\n",
      "<a href=https://live.staticflickr.com/4446/36594573233_c2690584ca_b.jpg data-lightbox='72157664774790527' title='<a href=\"https://www.flickr.com/photos/58652194@N05/36594573233\" target=\"_blank\" > St. 447966616E by ϟ Sparks ϟ</a>'><img src='https://live.staticflickr.com/4446/36594573233_c2690584ca_w.jpg'></a>\n",
      "<a href=https://live.staticflickr.com/4732/38942318221_a72a7d67bb_b.jpg data-lightbox='72157664774790527' title='<a href=\"https://www.flickr.com/photos/94755134@N06/38942318221\" target=\"_blank\" > ST. 4c656f6e617264 by Leonid An</a>'><img src='https://live.staticflickr.com/4732/38942318221_a72a7d67bb_w.jpg'></a>\n",
      "<a href=https://live.staticflickr.com/4391/36558873604_c6b2a267e5_b.jpg data-lightbox='72157664774790527' title='<a href=\"https://www.flickr.com/photos/94755134@N06/36558873604\" target=\"_blank\" > ST. 4c656f6e69646173 by Leonid An</a>'><img src='https://live.staticflickr.com/4391/36558873604_c6b2a267e5_w.jpg'></a>\n",
      "<a href=https://live.staticflickr.com/4483/37266680251_67486e1575_b.jpg data-lightbox='72157664774790527' title='<a href=\"https://www.flickr.com/photos/79979525@N04/37266680251\" target=\"_blank\" > ST. 4D61726B by ▷Cezium◁</a>'><img src='https://live.staticflickr.com/4483/37266680251_67486e1575_w.jpg'></a>\n",
      "<a href=https://live.staticflickr.com/4574/25068705258_851c562abf_b.jpg data-lightbox='72157664774790527' title='<a href=\"https://www.flickr.com/photos/62918870@N04/25068705258\" target=\"_blank\" > ST. 4d617263656c6c7573 by Kingmarshy</a>'><img src='https://live.staticflickr.com/4574/25068705258_851c562abf_w.jpg'></a>\n",
      "<a href=https://live.staticflickr.com/4550/38055648295_a5d354deef_b.jpg data-lightbox='72157664774790527' title='<a href=\"https://www.flickr.com/photos/46117735@N08/38055648295\" target=\"_blank\" > ST. 44696d69747269 by -Disty-</a>'><img src='https://live.staticflickr.com/4550/38055648295_a5d354deef_w.jpg'></a>\n",
      "<a href=https://live.staticflickr.com/4641/38220146054_50ec2375ab_b.jpg data-lightbox='72157664774790527' title='<a href=\"https://www.flickr.com/photos/93688595@N06/38220146054\" target=\"_blank\" > ST. 67656f7267 by Djokson</a>'><img src='https://live.staticflickr.com/4641/38220146054_50ec2375ab_w.jpg'></a>\n",
      "<a href=https://live.staticflickr.com/4729/38942341421_7220998cd4_b.jpg data-lightbox='72157664774790527' title='<a href=\"https://www.flickr.com/photos/53318127@N02/38942341421\" target=\"_blank\" > ST. 54686f6d6173 by Lord-Oblivion</a>'><img src='https://live.staticflickr.com/4729/38942341421_7220998cd4_w.jpg'></a>\n",
      "<a href=https://live.staticflickr.com/4679/25361384338_96c02356e0_b.jpg data-lightbox='72157664774790527' title='<a href=\"https://www.flickr.com/photos/98795587@N02/25361384338\" target=\"_blank\" > STN.4c756369666572 by Anthony (The Secret Walrus) Wilson</a>'><img src='https://live.staticflickr.com/4679/25361384338_96c02356e0_w.jpg'></a>\n",
      "<a href=https://live.staticflickr.com/4534/38904289652_23271dedbc_b.jpg data-lightbox='72157664774790527' title='<a href=\"https://www.flickr.com/photos/98795587@N02/38904289652\" target=\"_blank\" > ST. 4672616e636973 by Anthony (The Secret Walrus) Wilson</a>'><img src='https://live.staticflickr.com/4534/38904289652_23271dedbc_w.jpg'></a>\n",
      "<a href=https://live.staticflickr.com/4692/38391407815_7bf2820042_b.jpg data-lightbox='72157664774790527' title='<a href=\"https://www.flickr.com/photos/62087062@N07/38391407815\" target=\"_blank\" > ST. 566c616420616e64204369444469 by [Rhymes_Shelter]</a>'><img src='https://live.staticflickr.com/4692/38391407815_7bf2820042_w.jpg'></a>\n"
     ]
    }
   ],
   "source": [
    "# Loop through photos and print html code for each.\n",
    "for photo in r['photos']['photo']:\n",
    "    info = photo #dict(photo.items())\n",
    "    \n",
    "    thumb = 'https://live.staticflickr.com/'+info['server']+'/'+info['id']+'_'+info['secret']+'_w.jpg'\n",
    "    full = 'https://live.staticflickr.com/'+info['server']+'/'+info['id']+'_'+info['secret']+'_b.jpg'\n",
    "    link = 'https://www.flickr.com/photos/' +info['owner'] +'/' + info['id']\n",
    "    \n",
    "    user = dict(flickr.people.getInfo(user_id=info['owner']))\n",
    "    name = user['person']['username']['_content']\n",
    "    \n",
    "    title = '<a href=\"'+ link +'\" target=\"_blank\" > '+ info['title'] +' by '+ name + '</a>'\n",
    "    print(\"<a href=\"+full+\" data-lightbox='\"+ GALLERY_ID +\"' title='\"+title+\"'><img src='\"+thumb+\"'></a>\")"
   ]
  },
  {
   "cell_type": "code",
   "execution_count": null,
   "metadata": {},
   "outputs": [],
   "source": []
  }
 ],
 "metadata": {
  "kernelspec": {
   "display_name": "Python 3",
   "language": "python",
   "name": "python3"
  },
  "language_info": {
   "codemirror_mode": {
    "name": "ipython",
    "version": 3
   },
   "file_extension": ".py",
   "mimetype": "text/x-python",
   "name": "python",
   "nbconvert_exporter": "python",
   "pygments_lexer": "ipython3",
   "version": "3.7.4"
  }
 },
 "nbformat": 4,
 "nbformat_minor": 2
}
