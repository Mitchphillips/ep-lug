{
 "cells": [
  {
   "cell_type": "code",
   "execution_count": 255,
   "metadata": {},
   "outputs": [],
   "source": [
    "# Take in a flickr gallery id and spit out html code for all images to be on website"
   ]
  },
  {
   "cell_type": "code",
   "execution_count": null,
   "metadata": {},
   "outputs": [],
   "source": [
    "# This product uses the Flickr API but is not endorsed or certified by SmugMug, Inc."
   ]
  },
  {
   "cell_type": "code",
   "execution_count": 268,
   "metadata": {},
   "outputs": [],
   "source": [
    "# Gallery Id comes from the last number in the URL:                    V\n",
    "# https://www.flickr.com/photos/lordoblivionthegreat/galleries/72157676081958707/\n",
    "GALLERY_ID = '72157714586749703'"
   ]
  },
  {
   "cell_type": "code",
   "execution_count": 269,
   "metadata": {},
   "outputs": [],
   "source": [
    "import json\n",
    "import xml.etree.ElementTree as ET\n",
    "import flickrapi\n",
    "\n",
    "with open('/Users/mitch/Documents/secrets/flickr/credentials.json') as f:\n",
    "  secrets = json.load(f)"
   ]
  },
  {
   "cell_type": "code",
   "execution_count": 270,
   "metadata": {
    "scrolled": false
   },
   "outputs": [],
   "source": [
    "api_key = secrets['KEY']\n",
    "api_password = secrets['SECRET']\n",
    "flickr = flickrapi.FlickrAPI(api_key, api_password, format='parsed-json')\n",
    "\n",
    "r = flickr.galleries_getPhotos(gallery_id=GALLERY_ID)"
   ]
  },
  {
   "cell_type": "code",
   "execution_count": 271,
   "metadata": {},
   "outputs": [
    {
     "name": "stdout",
     "output_type": "stream",
     "text": [
      "<a href=https://live.staticflickr.com/65535/49973620578_3519dbe286_b.jpg data-lightbox='72157714586749703' title='<a href=\"https://www.flickr.com/photos/58652194@N05/49973620578\"> Jules L'ochka by ϟ Sparks ϟ</a>'><img src='https://live.staticflickr.com/65535/49973620578_3519dbe286_w.jpg'></a>\n",
      "<a href=https://live.staticflickr.com/65535/49973910138_75056e1346_b.jpg data-lightbox='72157714586749703' title='<a href=\"https://www.flickr.com/photos/10242956@N05/49973910138\"> Mirubelle by mischiefmecha</a>'><img src='https://live.staticflickr.com/65535/49973910138_75056e1346_w.jpg'></a>\n",
      "<a href=https://live.staticflickr.com/65535/49974448936_58d7667626_b.jpg data-lightbox='72157714586749703' title='<a href=\"https://www.flickr.com/photos/93688595@N06/49974448936\"> The Lion by Djokson</a>'><img src='https://live.staticflickr.com/65535/49974448936_58d7667626_w.jpg'></a>\n",
      "<a href=https://live.staticflickr.com/65535/49974521797_fd02558494_b.jpg data-lightbox='72157714586749703' title='<a href=\"https://www.flickr.com/photos/145968503@N02/49974521797\"> Radgar by Sergei Rahkmaninoff</a>'><img src='https://live.staticflickr.com/65535/49974521797_fd02558494_w.jpg'></a>\n",
      "<a href=https://live.staticflickr.com/65535/49972997278_e217b7336c_b.jpg data-lightbox='72157714586749703' title='<a href=\"https://www.flickr.com/photos/147112766@N06/49972997278\"> Robo-Rebel by Space Glove</a>'><img src='https://live.staticflickr.com/65535/49972997278_e217b7336c_w.jpg'></a>\n",
      "<a href=https://live.staticflickr.com/65535/49973455566_4bc169a28e_b.jpg data-lightbox='72157714586749703' title='<a href=\"https://www.flickr.com/photos/98795587@N02/49973455566\"> Skyline Dragon by Anthony (The Secret Walrus) Wilson</a>'><img src='https://live.staticflickr.com/65535/49973455566_4bc169a28e_w.jpg'></a>\n",
      "<a href=https://live.staticflickr.com/65535/49972942118_5cbc7f2181_b.jpg data-lightbox='72157714586749703' title='<a href=\"https://www.flickr.com/photos/79979525@N04/49972942118\"> Temperance by ▷Cezium◁</a>'><img src='https://live.staticflickr.com/65535/49972942118_5cbc7f2181_w.jpg'></a>\n",
      "<a href=https://live.staticflickr.com/65535/49972927738_b0fbab596b_b.jpg data-lightbox='72157714586749703' title='<a href=\"https://www.flickr.com/photos/76895119@N03/49972927738\"> Merlin by JakTheMad</a>'><img src='https://live.staticflickr.com/65535/49972927738_b0fbab596b_w.jpg'></a>\n",
      "<a href=https://live.staticflickr.com/65535/49973719862_ce06f353b7_b.jpg data-lightbox='72157714586749703' title='<a href=\"https://www.flickr.com/photos/95155021@N06/49973719862\"> Lonely Vision by Galaxus</a>'><img src='https://live.staticflickr.com/65535/49973719862_ce06f353b7_w.jpg'></a>\n",
      "<a href=https://live.staticflickr.com/65535/49972818053_1ef9dc4cce_b.jpg data-lightbox='72157714586749703' title='<a href=\"https://www.flickr.com/photos/131010008@N07/49972818053\"> Aqua Trooper by Green Axles</a>'><img src='https://live.staticflickr.com/65535/49972818053_1ef9dc4cce_w.jpg'></a>\n",
      "<a href=https://live.staticflickr.com/65535/49973401521_80328b92e7_b.jpg data-lightbox='72157714586749703' title='<a href=\"https://www.flickr.com/photos/115507774@N02/49973401521\"> Trunx by DanielBrickSon</a>'><img src='https://live.staticflickr.com/65535/49973401521_80328b92e7_w.jpg'></a>\n"
     ]
    }
   ],
   "source": [
    "# Loop through photos and print html code for each.\n",
    "for photo in r['photos']['photo']:\n",
    "    info = photo #dict(photo.items())\n",
    "    \n",
    "    thumb = 'https://live.staticflickr.com/'+info['server']+'/'+info['id']+'_'+info['secret']+'_w.jpg'\n",
    "    full = 'https://live.staticflickr.com/'+info['server']+'/'+info['id']+'_'+info['secret']+'_b.jpg'\n",
    "    link = 'https://www.flickr.com/photos/' +info['owner'] +'/' + info['id']\n",
    "    \n",
    "    user = dict(flickr.people.getInfo(user_id=info['owner']))\n",
    "    name = user['person']['username']['_content']\n",
    "    \n",
    "    title = '<a href=\"'+ link +'\"> '+ info['title'] +' by '+ name + '</a>'\n",
    "    print(\"<a href=\"+full+\" data-lightbox='\"+ GALLERY_ID +\"' title='\"+title+\"'><img src='\"+thumb+\"'></a>\")"
   ]
  },
  {
   "cell_type": "code",
   "execution_count": null,
   "metadata": {},
   "outputs": [],
   "source": []
  }
 ],
 "metadata": {
  "kernelspec": {
   "display_name": "Python 3",
   "language": "python",
   "name": "python3"
  },
  "language_info": {
   "codemirror_mode": {
    "name": "ipython",
    "version": 3
   },
   "file_extension": ".py",
   "mimetype": "text/x-python",
   "name": "python",
   "nbconvert_exporter": "python",
   "pygments_lexer": "ipython3",
   "version": "3.7.4"
  }
 },
 "nbformat": 4,
 "nbformat_minor": 2
}
